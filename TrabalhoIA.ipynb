{
  "cells": [
    {
      "cell_type": "markdown",
      "metadata": {
        "id": "view-in-github",
        "colab_type": "text"
      },
      "source": [
        "<a href=\"https://colab.research.google.com/github/JoubertSI/TrabalhoIA_Machinelearning/blob/main/TrabalhoIA.ipynb\" target=\"_parent\"><img src=\"https://colab.research.google.com/assets/colab-badge.svg\" alt=\"Open In Colab\"/></a>"
      ]
    },
    {
      "cell_type": "code",
      "execution_count": 2,
      "metadata": {
        "id": "_c0uGpRBirhv"
      },
      "outputs": [],
      "source": [
        "import numpy as np\n",
        "from sklearn.datasets import fetch_openml\n",
        "from sklearn.model_selection import train_test_split\n",
        "\n",
        "# Carrega o dataset CIFAR-10\n",
        "cifar10 = fetch_openml('cifar_10', version=1, cache=True)\n",
        "\n",
        "# Separa os dados e os rótulos\n",
        "X = cifar10.data\n",
        "y = cifar10.target\n",
        "\n",
        "# Converte os rótulos para inteiros\n",
        "y = y.astype(np.uint8)\n",
        "\n",
        "# Divide os dados em conjuntos de treinamento e teste\n",
        "X_train, X_test, y_train, y_test = train_test_split(X, y, test_size=0.2, random_state=42)\n",
        "\n",
        "# Normaliza os dados\n",
        "X_train = X_train / 255.0\n",
        "X_test = X_test / 255.0"
      ]
    },
    {
      "cell_type": "code",
      "execution_count": 3,
      "metadata": {
        "id": "IwDeOfxiklr-"
      },
      "outputs": [],
      "source": [
        "import matplotlib as mpl\n",
        "import matplotlib.pyplot as plt\n",
        "import numpy as np\n",
        "from sklearn import datasets, svm, metrics\n",
        "from sklearn.ensemble import RandomForestClassifier\n",
        "from sklearn import tree\n",
        "from sklearn.neural_network import MLPClassifier\n",
        "from sklearn.ensemble import HistGradientBoostingClassifier\n",
        "from sklearn.datasets import make_hastie_10_2\n",
        "from sklearn.datasets import load_iris\n",
        "from sklearn.model_selection import train_test_split\n"
      ]
    },
    {
      "cell_type": "code",
      "execution_count": 4,
      "metadata": {
        "id": "milkAeltlmhQ"
      },
      "outputs": [],
      "source": [
        "digits = datasets.load_digits()"
      ]
    },
    {
      "cell_type": "code",
      "execution_count": 5,
      "metadata": {
        "colab": {
          "base_uri": "https://localhost:8080/"
        },
        "id": "aeMUX0Lf1noy",
        "outputId": "9469364a-f8ba-465d-8523-e6b7d1c6f1df"
      },
      "outputs": [
        {
          "output_type": "stream",
          "name": "stdout",
          "text": [
            "              precision    recall  f1-score   support\n",
            "\n",
            "           0       0.38      0.51      0.44      1193\n",
            "           1       0.37      0.47      0.42      1211\n",
            "           2       0.25      0.30      0.27      1218\n",
            "           3       0.24      0.24      0.24      1208\n",
            "           4       0.28      0.31      0.29      1168\n",
            "           5       0.30      0.24      0.27      1203\n",
            "           6       0.38      0.34      0.36      1185\n",
            "           7       0.41      0.27      0.33      1241\n",
            "           8       0.54      0.50      0.52      1183\n",
            "           9       0.42      0.35      0.39      1190\n",
            "\n",
            "    accuracy                           0.35     12000\n",
            "   macro avg       0.36      0.35      0.35     12000\n",
            "weighted avg       0.36      0.35      0.35     12000\n",
            "\n"
          ]
        }
      ],
      "source": [
        "\n",
        "clf = RandomForestClassifier(n_estimators=10)\n",
        "clf.fit(X_train, y_train)\n",
        "\n",
        "predito = clf.predict(X_test)\n",
        "esperado = y_test\n",
        "\n",
        "print(metrics.classification_report(esperado, predito))\n",
        "\n",
        "\n",
        "\n"
      ]
    },
    {
      "cell_type": "code",
      "execution_count": 6,
      "metadata": {
        "colab": {
          "base_uri": "https://localhost:8080/"
        },
        "id": "3BahUcGb7iQM",
        "outputId": "c9e26e35-102a-43a4-fe1c-ab16c33b6b04"
      },
      "outputs": [
        {
          "output_type": "stream",
          "name": "stdout",
          "text": [
            "              precision    recall  f1-score   support\n",
            "\n",
            "           0       0.35      0.36      0.35      1193\n",
            "           1       0.32      0.31      0.31      1211\n",
            "           2       0.21      0.21      0.21      1218\n",
            "           3       0.18      0.17      0.18      1208\n",
            "           4       0.21      0.23      0.22      1168\n",
            "           5       0.21      0.20      0.21      1203\n",
            "           6       0.27      0.27      0.27      1185\n",
            "           7       0.28      0.26      0.27      1241\n",
            "           8       0.37      0.40      0.38      1183\n",
            "           9       0.27      0.26      0.27      1190\n",
            "\n",
            "    accuracy                           0.27     12000\n",
            "   macro avg       0.27      0.27      0.27     12000\n",
            "weighted avg       0.27      0.27      0.27     12000\n",
            "\n"
          ]
        }
      ],
      "source": [
        "clfI = tree.DecisionTreeClassifier()\n",
        "clfI = clfI.fit(X_train, y_train)\n",
        "\n",
        "predito = clfI.predict(X_test)\n",
        "esperado = y_test\n",
        "\n",
        "print(metrics.classification_report(esperado, predito))"
      ]
    },
    {
      "cell_type": "code",
      "execution_count": 7,
      "metadata": {
        "id": "nTNxOhdvAxm6",
        "colab": {
          "base_uri": "https://localhost:8080/"
        },
        "outputId": "4cd2e54b-8dc3-4e4e-901f-20281917adde"
      },
      "outputs": [
        {
          "output_type": "stream",
          "name": "stdout",
          "text": [
            "              precision    recall  f1-score   support\n",
            "\n",
            "           0       0.60      0.61      0.60      1193\n",
            "           1       0.64      0.67      0.65      1211\n",
            "           2       0.44      0.39      0.41      1218\n",
            "           3       0.38      0.36      0.37      1208\n",
            "           4       0.45      0.46      0.46      1168\n",
            "           5       0.44      0.42      0.43      1203\n",
            "           6       0.54      0.59      0.56      1185\n",
            "           7       0.60      0.53      0.56      1241\n",
            "           8       0.67      0.69      0.68      1183\n",
            "           9       0.57      0.62      0.59      1190\n",
            "\n",
            "    accuracy                           0.53     12000\n",
            "   macro avg       0.53      0.53      0.53     12000\n",
            "weighted avg       0.53      0.53      0.53     12000\n",
            "\n"
          ]
        }
      ],
      "source": [
        "clf2 = HistGradientBoostingClassifier(max_iter=100).fit(X_train, y_train)\n",
        "clf2.score(X_train, y_train)\n",
        "\n",
        "predito = clf2.predict(X_test)\n",
        "esperado = y_test\n",
        "\n",
        "print(metrics.classification_report(esperado, predito))\n"
      ]
    }
  ],
  "metadata": {
    "colab": {
      "provenance": [],
      "include_colab_link": true
    },
    "kernelspec": {
      "display_name": "Python 3",
      "name": "python3"
    },
    "language_info": {
      "name": "python"
    }
  },
  "nbformat": 4,
  "nbformat_minor": 0
}